{
  "nbformat": 4,
  "nbformat_minor": 0,
  "metadata": {
    "colab": {
      "provenance": []
    },
    "kernelspec": {
      "name": "python3",
      "display_name": "Python 3"
    },
    "language_info": {
      "name": "python"
    }
  },
  "cells": [
    {
      "cell_type": "markdown",
      "source": [
        "#Lecture 1 - Matrix Vector Multiplication."
      ],
      "metadata": {
        "id": "ab9EqQ3on9N5"
      }
    },
    {
      "cell_type": "code",
      "source": [
        "import numpy as np"
      ],
      "metadata": {
        "id": "liZves4Ui--T"
      },
      "execution_count": null,
      "outputs": []
    },
    {
      "cell_type": "markdown",
      "source": [
        "## Familiar Definitions\n",
        "\n",
        "Given $ Ax = b$, where $A \\in \\mathbb{C}^{m \\times n}$, $x \\in \\mathbb{C}^{n}$, we have\n",
        "$$\n",
        "b_i = \\sum_{j=1}^{n}a_{ij}x_j\n",
        "$$\n",
        "\n",
        "In this way, $b \\in \\mathbb{C}^m$. Also, remember the multiplication is $\\textit{linear}$, i.e., for $y \\in \\mathbb{C}^{n}$ and $\\alpha \\in \\mathbb{C}$, then\n",
        "\n",
        "*   $A(x + y) = Ax + Ay$\n",
        "*   $A(\\alpha x) = \\alpha(Ax)$\n",
        "\n",
        "Now, we can interpret $A$ as being a list of vectors $a_i$, consequently\n",
        "\n",
        "$$\n",
        "b = \\sum_{j=1}^{n}x_ja_{j}\n",
        "$$"
      ],
      "metadata": {
        "id": "eEvzCZhrgw4u"
      }
    },
    {
      "cell_type": "code",
      "source": [
        "#Example\n",
        "\n",
        "A = np.matrix([[5,6,7],[2,3,6],[5,3,5]])\n",
        "x = np.matrix([[1],[2],[3]])\n",
        "b1 = A@x\n",
        "print(b1)\n",
        "\n",
        "b2 = np.zeros_like(b1)\n",
        "for i in range(A.shape[1]):\n",
        "    b2 += x[i,0] * A[:, [i]]\n",
        "\n",
        "print(b2)"
      ],
      "metadata": {
        "colab": {
          "base_uri": "https://localhost:8080/"
        },
        "id": "Yjmuwv4QiyUM",
        "outputId": "740ea9df-6f8d-4264-a4f2-884ea7f00894"
      },
      "execution_count": null,
      "outputs": [
        {
          "output_type": "stream",
          "name": "stdout",
          "text": [
            "[[38]\n",
            " [26]\n",
            " [26]]\n",
            "[[38]\n",
            " [26]\n",
            " [26]]\n"
          ]
        }
      ]
    },
    {
      "cell_type": "markdown",
      "source": [],
      "metadata": {
        "id": "ST2Vx_can4wG"
      }
    }
  ]
}